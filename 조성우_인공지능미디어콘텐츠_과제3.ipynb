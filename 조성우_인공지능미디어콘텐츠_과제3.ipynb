{
  "nbformat": 4,
  "nbformat_minor": 0,
  "metadata": {
    "colab": {
      "name": "조성우_인공지능미디어콘텐츠_과제3.ipynb",
      "provenance": [],
      "collapsed_sections": [],
      "authorship_tag": "ABX9TyONbJ0DPZ0JF+qpBWMz+HRM",
      "include_colab_link": true
    },
    "kernelspec": {
      "name": "python3",
      "display_name": "Python 3"
    },
    "language_info": {
      "name": "python"
    }
  },
  "cells": [
    {
      "cell_type": "markdown",
      "metadata": {
        "id": "view-in-github",
        "colab_type": "text"
      },
      "source": [
        "<a href=\"https://colab.research.google.com/github/josungwoo/My_Report/blob/main/%EC%A1%B0%EC%84%B1%EC%9A%B0_%EC%9D%B8%EA%B3%B5%EC%A7%80%EB%8A%A5%EB%AF%B8%EB%94%94%EC%96%B4%EC%BD%98%ED%85%90%EC%B8%A0_%EA%B3%BC%EC%A0%9C3.ipynb\" target=\"_parent\"><img src=\"https://colab.research.google.com/assets/colab-badge.svg\" alt=\"Open In Colab\"/></a>"
      ]
    },
    {
      "cell_type": "markdown",
      "source": [
        "## 뉴스 생성 과제"
      ],
      "metadata": {
        "id": "HHO-lIFlfVHs"
      }
    },
    {
      "cell_type": "markdown",
      "source": [
        "### 라이브러리"
      ],
      "metadata": {
        "id": "Op9WtOzmfX5a"
      }
    },
    {
      "cell_type": "code",
      "source": [
        "import datetime # 현재날짜 시간을 불러올 함수\n",
        "import random # 랜덤 관련 라이브러리\n",
        "import re #정규식 사용"
      ],
      "metadata": {
        "id": "iPiAe8nrR4yX"
      },
      "execution_count": 22,
      "outputs": []
    },
    {
      "cell_type": "markdown",
      "source": [
        "### 입력부"
      ],
      "metadata": {
        "id": "jJavk1tCfZxh"
      }
    },
    {
      "cell_type": "code",
      "source": [
        "#경기 결과를 변수에 입력받는 부분\n",
        "print(\"본 프로그램은 농구 뉴스 자동생성에 관한 내용입니다\\n\",\"=\"*50)\n",
        "place = input(\"경기가 열린곳은? : \")\n",
        "round = input(\"현재 라운드 (숫자만): \")\n",
        "home = input(\"홈팀은 어느팀인가요? : \")\n",
        "homegoal = input(\"홈팀은 몇골을 넣었나요 (숫자만): \")\n",
        "away = input(\"어웨이팀은 어느팀인가요? : \")\n",
        "awaygoal = input(\"어웨이팀은 몇골을 넣었나요? (숫자만) : \")\n",
        "upround = input(\"다음라운드 진출 여부 (진출 = 1, 아직진출하지못함 = 0): \")"
      ],
      "metadata": {
        "id": "me67TbEEfKSn"
      },
      "execution_count": null,
      "outputs": []
    },
    {
      "cell_type": "markdown",
      "source": [
        "### 생성부"
      ],
      "metadata": {
        "id": "5_pjV2G4fbPE"
      }
    },
    {
      "cell_type": "code",
      "source": [
        "class info():\n",
        "    def __init__(self, place, round, home, homegoal, away, awaygoal, upround): # 입력된 값들을 전처리 하는 과정\n",
        "        self.place = place\n",
        "        self.round = int(round)\n",
        "        self.home = home\n",
        "        self.homegoal = int(re.sub(r'[^0-9]', '', homegoal)) # r'[^0-9]' 0~9가 아닌 숫자를 '' 공백으로 변환해서 변수에 저장\n",
        "        self.away = away\n",
        "        self.awaygoal = int(re.sub(r'[^0-9]', '', awaygoal)) # r'[^0-9]' 0~9가 아닌 숫자를 '' 공백으로 변환해서 변수에 저장\n",
        "        self.upround = int(upround)\n",
        "        self.w, self.l = self.checkwinner(self.home,self.away) # 우승자를 변수에 저장\n",
        "        \n",
        "    def checkwinner(self, a, b): # 우승자를 가리는 함수\n",
        "        a = self.home\n",
        "        b = self.away\n",
        "        if self.homegoal > self.awaygoal: # 홈팀이 우승\n",
        "            a, b = home, away\n",
        "            return a, b \n",
        "        elif self.homegoal < self.awaygoal: # 어웨이팀이 우승\n",
        "            a, b = home, away\n",
        "            return b, a \n",
        "        else:\n",
        "            print('농구에는 무승부가 없습니다'); exit() # 무승부시 프로그램 탈출\n",
        "\n",
        "    def headline(self): # 뉴스의 헤드라인을 작성\n",
        "        d = datetime.datetime.now() # 현재 날짜, 시간을 저장\n",
        "        print (f\"[{d.year}년 {d.month}월 {d.day}일 {d.hour}시 {d.minute}분]\") \n",
        "        if self.upround ==1:\n",
        "            nextround = [f'{self.w}팀의 팬들, 다음라운드 진출에 환호', f'{self.w}팀이 다음 라운드 진출 확정', f'{self.w}팀 {self.round + 1}라운드 진출']\n",
        "            print(\"[이시간 주요뉴스 : \"+random.choice(nextround)+\"]\\n\"+\"=\"*50)\n",
        "        else:\n",
        "            nomalround = [f'{self.w}팀 {self.l}팀 상대로 승리', f'{self.l}팀이 {self.w}팀 상대로 휘청!' , f'{self.l}팀 패배하다..']\n",
        "            print(\"[이시간 주요뉴스 : \"+random.choice(nomalround)+\"]\\n\"+\"=\"*50)\n",
        "            \n",
        "    def mainline(self): # 주요 경기내용을 저장\n",
        "        wintext = [\"우승을 거머쥐었다\", \"완승 하였다\", \"우승 하였다\"]\n",
        "        print(\"이번경기에는 총 {}골이 나왔으며 \".format(self.homegoal+self.awaygoal))\n",
        "        if self.w == self.home:\n",
        "            if self.homegoal - self.awaygoal <= 10:\n",
        "                print(\"{}팀이 {}팀 상대로 근소한 {}점차이로 \".format(self.w,self.l,self.homegoal-self.awaygoal)+random.choice(wintext))\n",
        "            elif 10 < self.homegoal - self.awaygoal <= 20:\n",
        "                print(\"{}팀이 {}팀 상대로 {}점차이로 \".format(self.w,self.l,self.homegoal-self.awaygoal)+random.choice(wintext))\n",
        "            elif 20 < self.homegoal - self.awaygoal:\n",
        "                print(\"{}팀이 {}팀 상대로 {}점차이로 큰 격차를 내며\".format(self.w,self.l,self.homegoal-self.awaygoal)+random.choice(wintext))\n",
        "        if self.w == self.away:\n",
        "            if self.awaygoal - self.homegoal <= 10:\n",
        "                print(\"{}팀이 {}팀 상대로 근소한 {}점차이로 \".format(self.w, self.l, self.awaygoal-self.homegoal)+random.choice(wintext))\n",
        "            elif 10 < self.awaygoal - self.homegoal <= 20:\n",
        "                print(\"{}팀이 {}팀 상대로 {}점차이로 \".format(self.w,self.l,self.awaygoal-self.homegoal)+random.choice(wintext))\n",
        "            elif 20 < self.awaygoal - self.homegoal:\n",
        "                print(\"{}팀이 {}팀 상대로 {}점차이로 큰 격차를 내며\".format(self.w,self.l,self.awaygoal-self.homegoal)+random.choice(wintext))\n",
        "                \n",
        "    def outline(self):\n",
        "        if self.w == self.home:\n",
        "            print(\"{}팀의 감독은 팀의 패배 원인을 원정경기로 인한 선수들의 피로 때문이라고 하였습니다\".format(self.l))\n",
        "        else:\n",
        "            print(\"{}팀의 홈경기지만 뼈아픈 패배를 하였습니다\".format(self.l))"
      ],
      "metadata": {
        "id": "mWo458T3fKbP"
      },
      "execution_count": null,
      "outputs": []
    },
    {
      "cell_type": "markdown",
      "source": [
        "### 출력부"
      ],
      "metadata": {
        "id": "BTvukqDvfcjn"
      }
    },
    {
      "cell_type": "code",
      "source": [
        "news = info(place, round, home, homegoal, away, awaygoal, upround)\n",
        "news.headline()\n",
        "news.mainline()\n",
        "news.outline()\n",
        "print(\"=\"*50,\"\\n[대구대학교 AI일보]\")"
      ],
      "metadata": {
        "id": "wo0T4EcKfKgl"
      },
      "execution_count": null,
      "outputs": []
    }
  ]
}