import datetime # 현재날짜 시간을 불러올 함수
import random # 랜덤 관련 라이브러리
import re #정규식 사용

#경기 결과를 변수에 입력받는 부분
print("본 프로그램은 농구 뉴스 자동생성에 관한 내용입니다\n","="*50)
place = input("경기가 열린곳은? : ")
round = input("현재 라운드 (숫자만): ")
home = input("홈팀은 어느팀인가요? : ")
homegoal = input("홈팀은 몇골을 넣었나요 (숫자만): ")
away = input("어웨이팀은 어느팀인가요? : ")
awaygoal = input("어웨이팀은 몇골을 넣었나요? (숫자만) : ")
upround = input("다음라운드 진출 여부 (진출 = 1, 아직진출하지못함 = 0): ")



class info():
    def __init__(self, place, round, home, homegoal, away, awaygoal, upround): # 입력된 값들을 전처리 하는 과정
        self.place = place
        self.round = int(round)
        self.home = home
        self.homegoal = int(re.sub(r'[^0-9]', '', homegoal)) # r'[^0-9]' 0~9가 아닌 숫자를 '' 공백으로 변환해서 변수에 저장
        self.away = away
        self.awaygoal = int(re.sub(r'[^0-9]', '', awaygoal)) # r'[^0-9]' 0~9가 아닌 숫자를 '' 공백으로 변환해서 변수에 저장
        self.upround = int(upround)
        self.w, self.l = self.checkwinner(self.home,self.away) # 우승자를 변수에 저장
        
    def checkwinner(self, a, b): # 우승자를 가리는 함수
        a = self.home
        b = self.away
        if self.homegoal > self.awaygoal: # 홈팀이 우승
            a, b = home, away
            return a, b 
        elif self.homegoal < self.awaygoal: # 어웨이팀이 우승
            a, b = home, away
            return b, a 
        else:
            print('농구에는 무승부가 없습니다'); exit() # 무승부시 프로그램 탈출

    def headline(self): # 뉴스의 헤드라인을 작성
        d = datetime.datetime.now() # 현재 날짜, 시간을 저장
        print (f"[{d.year}년 {d.month}월 {d.day}일 {d.hour}시 {d.minute}분]") 
        if self.upround ==1:
            nextround = [f'{self.w}팀의 팬들, 다음라운드 진출에 환호', f'{self.w}팀이 다음 라운드 진출 확정', f'{self.w}팀 {self.round + 1}라운드 진출']
            print("[이시간 주요뉴스 : "+random.choice(nextround)+"]\n"+"="*50)
        else:
            nomalround = [f'{self.w}팀 {self.l}팀 상대로 승리', f'{self.l}팀이 {self.w}팀 상대로 휘청!' , f'{self.l}팀 패배하다..']
            print("[이시간 주요뉴스 : "+random.choice(nomalround)+"]\n"+"="*50)
            
    def mainline(self): # 주요 경기내용을 저장
        wintext = ["우승을 거머쥐었다", "완승 하였다", "우승 하였다"]
        print("이번경기에는 총 {}골이 나왔으며 ".format(self.homegoal+self.awaygoal))
        if self.w == self.home:
            if self.homegoal - self.awaygoal <= 10:
                print("{}팀이 {}팀 상대로 근소한 {}점차이로 ".format(self.w,self.l,self.homegoal-self.awaygoal)+random.choice(wintext))
            elif 10 < self.homegoal - self.awaygoal <= 20:
                print("{}팀이 {}팀 상대로 {}점차이로 ".format(self.w,self.l,self.homegoal-self.awaygoal)+random.choice(wintext))
            elif 20 < self.homegoal - self.awaygoal:
                print("{}팀이 {}팀 상대로 {}점차이로 큰 격차를 내며".format(self.w,self.l,self.homegoal-self.awaygoal)+random.choice(wintext))
        if self.w == self.away:
            if self.awaygoal - self.homegoal <= 10:
                print("{}팀이 {}팀 상대로 근소한 {}점차이로 ".format(self.w, self.l, self.awaygoal-self.homegoal)+random.choice(wintext))
            elif 10 < self.awaygoal - self.homegoal <= 20:
                print("{}팀이 {}팀 상대로 {}점차이로 ".format(self.w,self.l,self.awaygoal-self.homegoal)+random.choice(wintext))
            elif 20 < self.awaygoal - self.homegoal:
                print("{}팀이 {}팀 상대로 {}점차이로 큰 격차를 내며".format(self.w,self.l,self.awaygoal-self.homegoal)+random.choice(wintext))
                
    def outline(self):
        if self.w == self.home:
            print("{}팀의 감독은 팀의 패배 원인을 원정경기로 인한 선수들의 피로 때문이라고 하였습니다".format(self.l))
        else:
            print("{}팀의 홈경기지만 뼈아픈 패배를 하였습니다".format(self.l))
news = info(place, round, home, homegoal, away, awaygoal, upround)
news.headline()
news.mainline()
news.outline()
print("="*50,"\n[대구대학교 AI일보]")
